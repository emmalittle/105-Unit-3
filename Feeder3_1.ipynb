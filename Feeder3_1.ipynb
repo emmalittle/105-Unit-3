{
 "cells": [
  {
   "cell_type": "markdown",
   "id": "9b2f3910-11f8-4832-b7a7-3b20d70c2932",
   "metadata": {},
   "source": [
    "## Setting up the Data\n",
    "1. Import pandas as an object, so that its methods can be used to manipulate the data\n",
    "1. Import each of the datasets as its own object using pandas\n",
    "    1. The datasets used in this example were found at [COVID-19 Data](https://github.com/nytimes/covid-19-data)\n",
    "    1. The first csv, imported as \"covid\", is a csv titled \"us-counties-2022.csv\" and was downloaded from [here](https://github.com/nytimes/covid-19-data/blob/master/us-counties-2022.csv)\n",
    "    1. The second csv, imported as \"covid\", is a csv titled \"mask-use-by-county.csv\" and was downloaded from [here](https://github.com/nytimes/covid-19-data/blob/master/mask-use/mask-use-by-county.csv)"
   ]
  },
  {
   "cell_type": "code",
   "execution_count": 100,
   "id": "076f749f-bae5-45a8-ad8b-af1bd987e3c1",
   "metadata": {},
   "outputs": [],
   "source": [
    "import pandas as pd\n",
    "covid = pd.read_csv(\"us-counties-2022.csv\")\n",
    "mask = pd.read_csv(\"mask-use-by-county.csv\")"
   ]
  },
  {
   "cell_type": "markdown",
   "id": "01af291a-31eb-42a2-b650-3f9f49593d0e",
   "metadata": {},
   "source": [
    "## Creating a Reference List of States\n",
    "* Create an object called \"states\" that contains an alphabetical list of the 50 states as string objects\n",
    "* This list will be used to help compile the data to be more digestable"
   ]
  },
  {
   "cell_type": "code",
   "execution_count": 31,
   "id": "29f0e46e-b8fc-46a2-b329-4fa857eb9b6c",
   "metadata": {},
   "outputs": [],
   "source": [
    "states = [\"Alabama\", \"Alaska\", \"Arizona\", \"Arkansas\", \"California\", \"Colorado\", \"Connecticut\", \"Delaware\", \"Florida\", \"Georgia\", \"Hawaii\", \"Idaho\", \"Illinois\", \"Indiana\", \"Iowa\", \"Kansas\", \"Kentucky\", \"Louisiana\", \"Maine\", \"Maryland\", \"Massachusetts\", \"Michigan\", \"Minnesota\", \"Mississippi\", \"Missouri\", \"Montana\", \"Nebraska\", \"Nevada\", \"New Hampshire\", \"New Jersey\", \"New Mexico\", \"New York\", \"North Carolina\", \"North Dakota\", \"Ohio\", \"Oklahoma\", \"Oregon\", \"Pennsylvania\", \"Rhode Island\", \"South Carolina\", \"South Dakota\", \"Tennessee\", \"Texas\", \"Utah\", \"Vermont\", \"Virginia\", \"Washington\", \"West Virginia\", \"Wisconsin\", \"Wyoming\"]"
   ]
  },
  {
   "cell_type": "markdown",
   "id": "e1e00d13-173b-4913-89ac-58117e12e9b3",
   "metadata": {},
   "source": [
    "## Creating a Compiled List of COVID Data by State\n",
    "1. Create an empty dataframe (using pandas) that has the columns, \"State\", \"Cases\", and \"Deaths\"\n",
    "1. Use a for loop to iterate through the list of states, adding a row to the dataframe for each iteration\n",
    "    1. To create the for loop, start by writing the line \"for state in states:\"\n",
    "    1. Afterwards, write the code for each iteration, making sure to indent each line included in the loop\n",
    "        1. The first line of this section should create a dataframe object with three values, one for \"State\", one for \"Cases\", and one for \"Deaths\"\n",
    "        1. \"State\" should be set to the state variable in the for loop, which will use each string from the reference list as the name of the state\n",
    "        1. \"Cases\" should be the sum of all of the cases for a certain state. This can be accomplished by filtering the large covid dataset's \"state\" column for each state using the state variable created in the for loop and then using the .sum() function to add all of these cases together\n",
    "        1. \"Deaths\" should be defined similarly to \"Cases\", through the filtering of the large dataset and the summation of each value in the deaths column\n",
    "        1. After this line, the cumulative dataframe should be combined along the horizontal axis with the temporary dataframe created in the for loop. This should be accomplished using the pd.concat() function with the axis=0\n",
    "1. Once the for loop has been completed, the cumulative dataframe should be made into a csv file using the .to_csv function"
   ]
  },
  {
   "cell_type": "code",
   "execution_count": 32,
   "id": "4bc36a74-a574-4876-9640-8b7211fbd356",
   "metadata": {},
   "outputs": [],
   "source": [
    "combined = pd.DataFrame({\"State\":[], \"Cases\":[], \"Deaths\":[]})\n",
    "\n",
    "for state in states:\n",
    "    current = pd.DataFrame({\"State\":[state], \"Cases\":[covid[covid[\"state\"]==state].cases.sum()], \"Deaths\":[covid[covid[\"state\"]==state].deaths.sum()]})\n",
    "    combined = pd.concat([combined, current],axis=0,ignore_index=True,sort=False)\n",
    "    \n",
    "combined.to_csv(\"StateData-22.csv\", index=False)"
   ]
  },
  {
   "cell_type": "markdown",
   "id": "72a01f46-8540-406e-b3c5-95516414a630",
   "metadata": {},
   "source": [
    "## Creating a Comparison of COVID and Mask Data from January-June 2022\n",
    "1. Begin by renaming the \"COUNTYFP\" column of the mask dataframe to \"fips\", using the .rename() command\n",
    "1. Next, shorten the covid dataframe to contain only values from January-June using the .iloc function\n",
    "1. Create a dataframe that contains every column of combined data from the covid and mask dataframes\n",
    "    1. Use the pd.merge() function, merge on the \"fips\" column, and set how = \"right\" so that the mask dataframe, which has fewer rows, is used to limit the comparison\n",
    "1. Repeat steps 2-3 from the above compilation of data\n",
    "    1. The dataframe should contain two extra rows: one called \"Never\" and one called \"Always\", in order to add the mask data\n",
    "    1. For \"Cases\" and \"Deaths\", the summed value should be divided by the number of values in each, which would yield the average. This can be accomplished use the len() method for each of the filtered values respectively\n",
    "    1. \"Never\" should be defined similarly to \"Cases\" and \"Deaths\", through the filtering of the combined dataset and the average of each value in the NEVER column\n",
    "    1. \"Always\" should be defined in the same way as \"Never\""
   ]
  },
  {
   "cell_type": "code",
   "execution_count": 104,
   "id": "94abe8bd-cd66-4518-a7e0-518afc028707",
   "metadata": {},
   "outputs": [],
   "source": [
    "mask = mask.rename(columns={\"COUNTYFP\" : \"fips\"})\n",
    "covid = covid.iloc[0:589051, :]\n",
    "tg = pd.merge(covid, mask, on = \"fips\", how = \"right\")\n",
    "compare = pd.DataFrame({\"State\":[], \"Cases\":[], \"Deaths\":[], \"Never\":[], \"Always\":[]})\n",
    "for state in states:\n",
    "    current = pd.DataFrame({\"State\":[state], \"Cases\":[tg[tg[\"state\"]==state].cases.sum()/len(tg[tg[\"state\"]==state].cases)], \"Deaths\":[tg[tg[\"state\"]==state].deaths.sum()/len(tg[tg[\"state\"]==state].deaths)], \"Never\":[tg[tg[\"state\"]==state].NEVER.sum()/len(tg[tg[\"state\"]==state].NEVER)], \"Always\":[tg[tg[\"state\"]==state].ALWAYS.sum()/len(tg[tg[\"state\"]==state].ALWAYS)]})\n",
    "    compare = pd.concat([compare, current],axis=0,ignore_index=True,sort=False)\n",
    "compare.to_csv(\"Jan-JunData.csv\", index=False)"
   ]
  }
 ],
 "metadata": {
  "kernelspec": {
   "display_name": "Python 3 (ipykernel)",
   "language": "python",
   "name": "python3"
  },
  "language_info": {
   "codemirror_mode": {
    "name": "ipython",
    "version": 3
   },
   "file_extension": ".py",
   "mimetype": "text/x-python",
   "name": "python",
   "nbconvert_exporter": "python",
   "pygments_lexer": "ipython3",
   "version": "3.9.13"
  }
 },
 "nbformat": 4,
 "nbformat_minor": 5
}
